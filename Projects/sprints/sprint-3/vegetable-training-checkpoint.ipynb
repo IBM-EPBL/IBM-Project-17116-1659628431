{
 "cells": [
  {
   "cell_type": "code",
   "execution_count": 1,
   "id": "20f6b3a9",
   "metadata": {},
   "outputs": [
    {
     "name": "stderr",
     "output_type": "stream",
     "text": [
      "Using TensorFlow backend.\n"
     ]
    }
   ],
   "source": [
    "from keras.preprocessing.image import ImageDataGenerator\n",
    "train_datagen = ImageDataGenerator(rescale = 1./255,shear_range = 0.2,zoom_range = 0.2,horizontal_flip = True)\n",
    "test_datagen =ImageDataGenerator(rescale = 1)\n"
   ]
  },
  {
   "cell_type": "code",
   "execution_count": 2,
   "id": "213803b6",
   "metadata": {
    "scrolled": true
   },
   "outputs": [
    {
     "name": "stdout",
     "output_type": "stream",
     "text": [
      "Found 3416 images belonging to 9 classes.\n",
      "Found 3416 images belonging to 9 classes.\n"
     ]
    }
   ],
   "source": [
    "x_train = train_datagen.flow_from_directory('C:/Users/yeshv/OneDrive/Desktop/project/Dataset Plant Disease/Veg-dataset/Veg-dataset/test_set',\n",
    "                                           target_size = (128,128),batch_size = 16, class_mode = 'categorical')\n",
    "x_test = test_datagen.flow_from_directory('C:/Users/yeshv/OneDrive/Desktop/project/Dataset Plant Disease/veg-dataset/veg-dataset/test_set',\n",
    "                                      target_size = (128,128),batch_size = 16, class_mode = 'categorical')"
   ]
  },
  {
   "cell_type": "code",
   "execution_count": 3,
   "id": "a04dfdbc",
   "metadata": {},
   "outputs": [],
   "source": [
    "from tensorflow.keras.layers import Dense\n",
    "from tensorflow.keras.layers import Convolution2D\n",
    "from tensorflow.keras.layers import MaxPooling2D\n",
    "from tensorflow.keras.layers import Flatten\n",
    "from tensorflow.keras import Sequential"
   ]
  },
  {
   "cell_type": "code",
   "execution_count": 4,
   "id": "f733c2fb",
   "metadata": {},
   "outputs": [],
   "source": [
    "model=Sequential()"
   ]
  },
  {
   "cell_type": "code",
   "execution_count": 5,
   "id": "ea123b2c",
   "metadata": {},
   "outputs": [],
   "source": [
    "model.add(Convolution2D(32,(3,3),input_shape = (128,128,3),activation = 'relu')) "
   ]
  },
  {
   "cell_type": "code",
   "execution_count": 6,
   "id": "8631beec",
   "metadata": {},
   "outputs": [],
   "source": [
    "model.add(MaxPooling2D(pool_size = (2,2)))"
   ]
  },
  {
   "cell_type": "code",
   "execution_count": 7,
   "id": "0dc727ca",
   "metadata": {},
   "outputs": [],
   "source": [
    "model.add(Flatten())"
   ]
  },
  {
   "cell_type": "code",
   "execution_count": 8,
   "id": "039172a2",
   "metadata": {},
   "outputs": [],
   "source": [
    "model.add(Dense(units = 300 ,kernel_initializer = 'uniform',activation = 'softmax'))\n",
    "model.add(Dense(units = 150 ,kernel_initializer = 'random_uniform',activation = 'softmax'))\n",
    "model.add(Dense(units = 75 ,kernel_initializer = 'uniform' ,activation = 'softmax'))\n",
    "model.add(Dense(units = 9,activation = 'softmax',kernel_initializer = 'random_uniform'))"
   ]
  },
  {
   "cell_type": "code",
   "execution_count": 9,
   "id": "ccfea25f",
   "metadata": {},
   "outputs": [],
   "source": [
    "model.compile(loss = 'categorical_crossentropy',optimizer = \"adam\",metrics = [\"accuracy\"])"
   ]
  },
  {
   "cell_type": "code",
   "execution_count": 10,
   "id": "8c200b83",
   "metadata": {},
   "outputs": [
    {
     "name": "stderr",
     "output_type": "stream",
     "text": [
      "C:\\Users\\yeshv\\AppData\\Roaming\\Python\\Python39\\site-packages\\tensorflow\\python\\keras\\engine\\training.py:1969: UserWarning: `Model.fit_generator` is deprecated and will be removed in a future version. Please use `Model.fit`, which supports generators.\n",
      "  warnings.warn('`Model.fit_generator` is deprecated and '\n"
     ]
    },
    {
     "name": "stdout",
     "output_type": "stream",
     "text": [
      "Epoch 1/50\n",
      "10/10 [==============================] - 10s 951ms/step - loss: 2.1955 - accuracy: 0.0855 - val_loss: 2.1932 - val_accuracy: 0.1759\n",
      "Epoch 2/50\n",
      "10/10 [==============================] - 8s 828ms/step - loss: 2.1897 - accuracy: 0.1562 - val_loss: 2.1889 - val_accuracy: 0.2269\n",
      "Epoch 3/50\n",
      "10/10 [==============================] - 8s 797ms/step - loss: 2.1868 - accuracy: 0.1937 - val_loss: 2.1846 - val_accuracy: 0.1829\n",
      "Epoch 4/50\n",
      "10/10 [==============================] - 7s 706ms/step - loss: 2.1859 - accuracy: 0.1312 - val_loss: 2.1823 - val_accuracy: 0.1759\n",
      "Epoch 5/50\n",
      "10/10 [==============================] - 6s 670ms/step - loss: 2.1770 - accuracy: 0.1776 - val_loss: 2.1762 - val_accuracy: 0.1690\n",
      "Epoch 6/50\n",
      "10/10 [==============================] - 6s 665ms/step - loss: 2.1781 - accuracy: 0.1562 - val_loss: 2.1810 - val_accuracy: 0.1458\n",
      "Epoch 7/50\n",
      "10/10 [==============================] - 6s 639ms/step - loss: 2.1607 - accuracy: 0.2750 - val_loss: 2.1738 - val_accuracy: 0.1921\n",
      "Epoch 8/50\n",
      "10/10 [==============================] - 5s 517ms/step - loss: 2.1705 - accuracy: 0.1688 - val_loss: 2.1648 - val_accuracy: 0.1921\n",
      "Epoch 9/50\n",
      "10/10 [==============================] - 5s 561ms/step - loss: 2.1609 - accuracy: 0.1937 - val_loss: 2.1694 - val_accuracy: 0.1458\n",
      "Epoch 10/50\n",
      "10/10 [==============================] - 5s 513ms/step - loss: 2.1582 - accuracy: 0.1937 - val_loss: 2.1616 - val_accuracy: 0.1829\n",
      "Epoch 11/50\n",
      "10/10 [==============================] - 6s 560ms/step - loss: 2.1587 - accuracy: 0.1688 - val_loss: 2.1557 - val_accuracy: 0.1667\n",
      "Epoch 12/50\n",
      "10/10 [==============================] - 5s 519ms/step - loss: 2.1567 - accuracy: 0.1688 - val_loss: 2.1477 - val_accuracy: 0.1944\n",
      "Epoch 13/50\n",
      "10/10 [==============================] - 5s 490ms/step - loss: 2.1533 - accuracy: 0.1688 - val_loss: 2.1491 - val_accuracy: 0.1898\n",
      "Epoch 14/50\n",
      "10/10 [==============================] - 5s 483ms/step - loss: 2.1483 - accuracy: 0.1750 - val_loss: 2.1539 - val_accuracy: 0.1644\n",
      "Epoch 15/50\n",
      "10/10 [==============================] - 4s 413ms/step - loss: 2.1264 - accuracy: 0.2250 - val_loss: 2.1491 - val_accuracy: 0.1782\n",
      "Epoch 16/50\n",
      "10/10 [==============================] - 4s 438ms/step - loss: 2.1412 - accuracy: 0.2000 - val_loss: 2.1435 - val_accuracy: 0.1574\n",
      "Epoch 17/50\n",
      "10/10 [==============================] - 4s 381ms/step - loss: 2.1516 - accuracy: 0.1750 - val_loss: 2.1394 - val_accuracy: 0.1736\n",
      "Epoch 18/50\n",
      "10/10 [==============================] - 4s 397ms/step - loss: 2.1433 - accuracy: 0.1562 - val_loss: 2.1325 - val_accuracy: 0.1968\n",
      "Epoch 19/50\n",
      "10/10 [==============================] - 4s 384ms/step - loss: 2.1398 - accuracy: 0.1625 - val_loss: 2.1404 - val_accuracy: 0.2153\n",
      "Epoch 20/50\n",
      "10/10 [==============================] - 4s 412ms/step - loss: 2.1340 - accuracy: 0.1875 - val_loss: 2.1216 - val_accuracy: 0.2083\n",
      "Epoch 21/50\n",
      "10/10 [==============================] - 4s 439ms/step - loss: 2.1375 - accuracy: 0.2000 - val_loss: 2.1272 - val_accuracy: 0.2014\n",
      "Epoch 22/50\n",
      "10/10 [==============================] - 5s 485ms/step - loss: 2.1142 - accuracy: 0.2625 - val_loss: 2.1381 - val_accuracy: 0.2060\n",
      "Epoch 23/50\n",
      "10/10 [==============================] - 5s 514ms/step - loss: 2.1487 - accuracy: 0.1875 - val_loss: 2.1491 - val_accuracy: 0.1597\n",
      "Epoch 24/50\n",
      "10/10 [==============================] - 7s 713ms/step - loss: 2.1279 - accuracy: 0.2438 - val_loss: 2.1322 - val_accuracy: 0.1991\n",
      "Epoch 25/50\n",
      "10/10 [==============================] - 7s 727ms/step - loss: 2.1301 - accuracy: 0.2000 - val_loss: 2.1339 - val_accuracy: 0.1875\n",
      "Epoch 26/50\n",
      "10/10 [==============================] - 7s 763ms/step - loss: 2.1236 - accuracy: 0.2000 - val_loss: 2.1218 - val_accuracy: 0.1829\n",
      "Epoch 27/50\n",
      "10/10 [==============================] - 7s 747ms/step - loss: 2.1267 - accuracy: 0.1875 - val_loss: 2.1262 - val_accuracy: 0.1944\n",
      "Epoch 28/50\n",
      "10/10 [==============================] - 7s 742ms/step - loss: 2.1485 - accuracy: 0.1813 - val_loss: 2.1041 - val_accuracy: 0.2245\n",
      "Epoch 29/50\n",
      "10/10 [==============================] - 5s 501ms/step - loss: 2.1357 - accuracy: 0.1750 - val_loss: 2.1155 - val_accuracy: 0.2176\n",
      "Epoch 30/50\n",
      "10/10 [==============================] - 4s 371ms/step - loss: 2.1371 - accuracy: 0.2062 - val_loss: 2.1179 - val_accuracy: 0.2083\n",
      "Epoch 31/50\n",
      "10/10 [==============================] - 4s 384ms/step - loss: 2.1118 - accuracy: 0.2250 - val_loss: 2.1220 - val_accuracy: 0.1829\n",
      "Epoch 32/50\n",
      "10/10 [==============================] - 4s 409ms/step - loss: 2.1012 - accuracy: 0.1937 - val_loss: 2.1201 - val_accuracy: 0.1991\n",
      "Epoch 33/50\n",
      "10/10 [==============================] - 5s 510ms/step - loss: 2.1300 - accuracy: 0.2125 - val_loss: 2.1122 - val_accuracy: 0.2037\n",
      "Epoch 34/50\n",
      "10/10 [==============================] - 4s 428ms/step - loss: 2.1069 - accuracy: 0.1562 - val_loss: 2.1158 - val_accuracy: 0.1875\n",
      "Epoch 35/50\n",
      "10/10 [==============================] - 6s 580ms/step - loss: 2.1255 - accuracy: 0.2000 - val_loss: 2.0976 - val_accuracy: 0.2199\n",
      "Epoch 36/50\n",
      "10/10 [==============================] - 6s 612ms/step - loss: 2.0884 - accuracy: 0.2000 - val_loss: 2.1113 - val_accuracy: 0.2060\n",
      "Epoch 37/50\n",
      "10/10 [==============================] - 5s 521ms/step - loss: 2.1605 - accuracy: 0.1625 - val_loss: 2.1106 - val_accuracy: 0.1875\n",
      "Epoch 38/50\n",
      "10/10 [==============================] - 4s 426ms/step - loss: 2.1053 - accuracy: 0.1750 - val_loss: 2.1057 - val_accuracy: 0.2269\n",
      "Epoch 39/50\n",
      "10/10 [==============================] - 4s 444ms/step - loss: 2.0927 - accuracy: 0.2438 - val_loss: 2.1083 - val_accuracy: 0.1898\n",
      "Epoch 40/50\n",
      "10/10 [==============================] - 4s 384ms/step - loss: 2.1120 - accuracy: 0.1750 - val_loss: 2.1075 - val_accuracy: 0.2014\n",
      "Epoch 41/50\n",
      "10/10 [==============================] - 4s 386ms/step - loss: 2.1034 - accuracy: 0.2105 - val_loss: 2.1131 - val_accuracy: 0.2037\n",
      "Epoch 42/50\n",
      "10/10 [==============================] - 4s 386ms/step - loss: 2.0874 - accuracy: 0.2562 - val_loss: 2.1106 - val_accuracy: 0.2083\n",
      "Epoch 43/50\n",
      "10/10 [==============================] - 3s 344ms/step - loss: 2.0728 - accuracy: 0.2250 - val_loss: 2.1082 - val_accuracy: 0.1875\n",
      "Epoch 44/50\n",
      "10/10 [==============================] - 5s 508ms/step - loss: 2.1110 - accuracy: 0.1875 - val_loss: 2.0914 - val_accuracy: 0.1968\n",
      "Epoch 45/50\n",
      "10/10 [==============================] - 4s 397ms/step - loss: 2.0998 - accuracy: 0.2438 - val_loss: 2.1045 - val_accuracy: 0.2130\n",
      "Epoch 46/50\n",
      "10/10 [==============================] - 5s 473ms/step - loss: 2.1193 - accuracy: 0.1813 - val_loss: 2.0907 - val_accuracy: 0.2106\n",
      "Epoch 47/50\n",
      "10/10 [==============================] - 4s 428ms/step - loss: 2.0787 - accuracy: 0.1813 - val_loss: 2.1070 - val_accuracy: 0.1898\n",
      "Epoch 48/50\n",
      "10/10 [==============================] - 4s 416ms/step - loss: 2.1117 - accuracy: 0.1562 - val_loss: 2.0765 - val_accuracy: 0.2176\n",
      "Epoch 49/50\n",
      "10/10 [==============================] - 4s 460ms/step - loss: 2.1223 - accuracy: 0.2313 - val_loss: 2.0901 - val_accuracy: 0.2269\n",
      "Epoch 50/50\n",
      "10/10 [==============================] - 4s 400ms/step - loss: 2.1299 - accuracy: 0.1500 - val_loss: 2.0954 - val_accuracy: 0.2014\n"
     ]
    },
    {
     "data": {
      "text/plain": [
       "<tensorflow.python.keras.callbacks.History at 0x204821c1fd0>"
      ]
     },
     "execution_count": 10,
     "metadata": {},
     "output_type": "execute_result"
    }
   ],
   "source": [
    "model.fit_generator(x_train, steps_per_epoch = 10,epochs = 50,validation_data = x_test,validation_steps = 27)"
   ]
  },
  {
   "cell_type": "code",
   "execution_count": 11,
   "id": "ec093ce1",
   "metadata": {},
   "outputs": [],
   "source": [
    "model.save(\"vegetable.h5\")"
   ]
  },
  {
   "cell_type": "code",
   "execution_count": null,
   "id": "341b46e2",
   "metadata": {},
   "outputs": [],
   "source": []
  }
 ],
 "metadata": {
  "kernelspec": {
   "display_name": "Python 3.9.13 ('base')",
   "language": "python",
   "name": "python3"
  },
  "language_info": {
   "codemirror_mode": {
    "name": "ipython",
    "version": 3
   },
   "file_extension": ".py",
   "mimetype": "text/x-python",
   "name": "python",
   "nbconvert_exporter": "python",
   "pygments_lexer": "ipython3",
   "version": "3.9.13"
  },
  "vscode": {
   "interpreter": {
    "hash": "ad2bdc8ecc057115af97d19610ffacc2b4e99fae6737bb82f5d7fb13d2f2c186"
   }
  }
 },
 "nbformat": 4,
 "nbformat_minor": 5
}
